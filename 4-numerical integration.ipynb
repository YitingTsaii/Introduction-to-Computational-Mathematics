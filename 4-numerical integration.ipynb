{
 "cells": [
  {
   "cell_type": "markdown",
   "metadata": {},
   "source": [
    "# Numerical Integration"
   ]
  },
  {
   "cell_type": "markdown",
   "metadata": {},
   "source": [
    "## 1. Trapezoidal Rule"
   ]
  },
  {
   "cell_type": "markdown",
   "metadata": {},
   "source": [
    "### Formula\n",
    "\n",
    " For a partitition $x_0 = a < x_1 < \\cdots < x_n = b$, the trapezoid rule formula simplifies to  \n",
    " \n",
    " $$\\int_a^b\\,f(x)\\,dx \\approx \\frac{1}{2} \\sum_{i=1}^n (f(x_i) + f(x_{i-1})) (x_i - x_{i-1})$$\n",
    "\n",
    " In particular, given an integer $N$, the trapezoid rule for $N$ sub-intervals of $[a,\\,b]$ of equal length is  \n",
    " \n",
    " $$T_N(f) = \\frac{\\Delta x}{2} \\sum_{i = 1}^N (f(x_i) + f(x_{i-1}))$$\n",
    " where $\\Delta x = \\frac{b - a}{N}$ is the length of the sub-intervals and $x_i = a + i\\,\\Delta x$.\n",
    "\n",
    " Notice that the trapezoid is the average of the left and right Riemann sums  \n",
    " \n",
    " $$\\begin{aligned} T_N(f) &= \\frac{\\Delta x}{2} \\sum_{i = 1}^N (f(x_i) + f(x_{i-1}))\\\\&= \\frac{1}{2} \\left( \\sum_{i=1}^N\\,f(x_i)\\,\\Delta x + \\sum_{i=1}^N\\,f(x_{i-1})\\,\\Delta x \\right)\\end{aligned}$$"
   ]
  },
  {
   "cell_type": "markdown",
   "metadata": {},
   "source": [
    "### Implementation"
   ]
  },
  {
   "cell_type": "code",
   "execution_count": 2,
   "metadata": {},
   "outputs": [],
   "source": [
    "import numpy as np\n",
    "import matplotlib.pyplot as plt"
   ]
  },
  {
   "cell_type": "code",
   "execution_count": 3,
   "metadata": {},
   "outputs": [],
   "source": [
    "def trapzoidal(\n",
    "    f,\n",
    "    a,\n",
    "    b,\n",
    "    N=50\n",
    "):\n",
    "    \n",
    "    '''\n",
    "    Parameters\n",
    "    ----------\n",
    "    f : function\n",
    "        Vectorized function of a single variable\n",
    "    a , b : numbers\n",
    "        Interval of integration [a,b]\n",
    "    N : integer\n",
    "        Number of sub-intervals of [a,b]\n",
    "\n",
    "    Returns\n",
    "    -------\n",
    "    T : float\n",
    "        Approximation of the integral of f(x) from a to b using the\n",
    "        trapezoid rule with N subintervals of equal length.\n",
    "    '''\n",
    "    \n",
    "    '''\n",
    "    Hint:\n",
    "        1. Compute the equivalent points\n",
    "        2. Compute the value of f(x)\n",
    "        3. Prepare right/left endpoints\n",
    "        4. Compute the length of each sub-interval\n",
    "        5. Compute the integal\n",
    "    '''\n",
    "\n",
    "    x = np.linspace(a,b,N+1) \n",
    "    y = f(x)\n",
    "    y_right = y[1:] \n",
    "    y_left = y[:-1]\n",
    "    dx = (b-a)/N \n",
    "    T = dx/2 * np.sum(y_left + y_right) \n",
    "\n",
    "    return T"
   ]
  },
  {
   "cell_type": "markdown",
   "metadata": {},
   "source": [
    "### Example\n",
    "\n",
    "Compute the integral\n",
    " $$\\int_0^{\\pi/2}\\,\\sin x\\,dx$$\n",
    "\n",
    " Note that we already know the real answer is $1$."
   ]
  },
  {
   "cell_type": "code",
   "execution_count": 4,
   "metadata": {},
   "outputs": [
    {
     "name": "stdout",
     "output_type": "stream",
     "text": [
      "The approximate value by trapzoidal rule is 0.9999997943832332\n",
      "The error is 2.056167668351705e-07\n"
     ]
    }
   ],
   "source": [
    "def sin(x):\n",
    "    return np.sin(x)\n",
    "approximation = trapzoidal(np.sin,0,np.pi/2,1000)\n",
    "print('The approximate value by trapzoidal rule is', approximation)\n",
    "print('The error is', abs(1 - approximation))"
   ]
  },
  {
   "cell_type": "markdown",
   "metadata": {},
   "source": [
    "## 2. Simpson's Rule"
   ]
  },
  {
   "cell_type": "markdown",
   "metadata": {},
   "source": [
    "### Formula\n",
    "Simpson's Rule uses a quadratic polynomial on each subinterval of a partition to approximate the function $f(x)$ and to compute the definite integral.\n",
    "\n",
    "This is an improvement over the trapezoid rule which approximates $f(x)$ by a straight line on each subinterval of a partition.\n",
    "\n",
    "The formula for Simpson's rule is\n",
    " $$S_N(f) = \\frac{\\Delta x}{3} \\sum_{i = 1}^{N/2} (f(x_{2i - 2}) + 4f(x_{2i - 1}) + f(x_{2i}))$$\n",
    "\n",
    "where $N$ is an even number of sub-intervals of $[a,\\,b],\\,\\Delta x = \\frac{b - a}{N}$ and $x_i = a + i \\Delta x$."
   ]
  },
  {
   "cell_type": "markdown",
   "metadata": {},
   "source": [
    "### Implementation"
   ]
  },
  {
   "cell_type": "code",
   "execution_count": 5,
   "metadata": {},
   "outputs": [],
   "source": [
    "def simpson(\n",
    "    f,\n",
    "    a,\n",
    "    b,\n",
    "    N=50\n",
    "):\n",
    "    \n",
    "    '''\n",
    "    Parameters\n",
    "    ----------\n",
    "    f : function\n",
    "        Vectorized function of a single variable\n",
    "    a , b : numbers\n",
    "        Interval of integration [a,b]\n",
    "    N : (even) integer\n",
    "        Number of subintervals of [a,b]\n",
    "\n",
    "    Returns\n",
    "    -------\n",
    "    S : float\n",
    "        Approximation of the integral of f(x) from a to b using\n",
    "        Simpson's rule with N subintervals of equal length.\n",
    "    '''\n",
    "    \n",
    "    '''\n",
    "    Hint:\n",
    "        1. Check whether 'N' is even\n",
    "        2. Compute the length of each sub-interval\n",
    "        3. Compute the value of f(x)\n",
    "        4. Compute the integal\n",
    "    '''\n",
    "    if N%2 ==1:\n",
    "        raise ValueError(\"N must be an integer.\")\n",
    "        \n",
    "    dx = (b-a)/N\n",
    "    x = np.linspace(a,b, N+1) \n",
    "    y=f(x)\n",
    "    S = dx/3 * np.sum(y[0:-1:2] + 4*y[1::2] + y[2::2]) \n",
    "    \n",
    "    return S"
   ]
  },
  {
   "cell_type": "markdown",
   "metadata": {},
   "source": [
    "### Example\n",
    "\n",
    "Compute the integral\n",
    " $$\\int_0^{\\pi/2}\\,\\sin x\\,dx$$\n",
    "\n",
    " Note that we already know the real answer is $1$."
   ]
  },
  {
   "cell_type": "code",
   "execution_count": 6,
   "metadata": {},
   "outputs": [
    {
     "name": "stdout",
     "output_type": "stream",
     "text": [
      "The approximate value is 1.000000000338236\n",
      "The error is 3.382361057902017e-10\n"
     ]
    }
   ],
   "source": [
    "approximation = simpson(np.sin, 0, np.pi/2, 100)\n",
    "print('The approximate value is', approximation)\n",
    "print('The error is', abs(1 - approximation))"
   ]
  },
  {
   "cell_type": "markdown",
   "metadata": {},
   "source": [
    "## 3. Gaussian–Legendre Quadrature"
   ]
  },
  {
   "cell_type": "markdown",
   "metadata": {},
   "source": [
    "### Implementation"
   ]
  },
  {
   "cell_type": "code",
   "execution_count": 7,
   "metadata": {},
   "outputs": [],
   "source": [
    "from scipy.special.orthogonal import p_roots"
   ]
  },
  {
   "cell_type": "code",
   "execution_count": 8,
   "metadata": {},
   "outputs": [],
   "source": [
    "def gauss(  \n",
    "    f,\n",
    "    n,\n",
    "    a,\n",
    "    b\n",
    "):\n",
    "    '''\n",
    "    Parameters\n",
    "    ----------\n",
    "    f : function\n",
    "        Vectorized function of a single variable\n",
    "    n : integer\n",
    "        Number of points\n",
    "    a , b : numbers\n",
    "        Interval of integration [a,b]\n",
    "\n",
    "    Returns\n",
    "    -------\n",
    "    G : float\n",
    "        Approximation of the integral of f(x) from a to b using the\n",
    "        Gaussian–Legendre quadrature rule with N points.\n",
    "    '''\n",
    "    \n",
    "    [x,w]=p_roots(n)\n",
    "    G = 0.5*(b-a)*sum(w*f(0.5*(b-a)*x+0.5*(b+a)))\n",
    "   \n",
    "    return G"
   ]
  },
  {
   "cell_type": "markdown",
   "metadata": {},
   "source": [
    "### Example\n",
    "\n",
    "Compute the integral\n",
    " $$\\int_0^{\\pi/2}\\,\\sin x\\,dx$$\n",
    "\n",
    " Note that we already know the real answer is $1$."
   ]
  },
  {
   "cell_type": "code",
   "execution_count": 9,
   "metadata": {},
   "outputs": [
    {
     "name": "stdout",
     "output_type": "stream",
     "text": [
      "The approximate value of n = 1 is 1.1107207345395915\n",
      "The approximate value of n = 2 is 0.9984726134041148\n",
      "The approximate value of n = 3 is 1.0000081215554981\n",
      "The approximate value of n = 4 is 0.999999977197115\n",
      "The approximate value of n = 5 is 1.0000000000395652\n",
      "The approximate value of n = 6 is 0.9999999999999535\n",
      "The approximate value of n = 7 is 0.9999999999999999\n",
      "The approximate value of n = 8 is 1.0\n",
      "The approximate value of n = 9 is 1.0\n",
      "The approximate value of n = 10 is 1.0000000000000002\n"
     ]
    }
   ],
   "source": [
    "for n in range(1, 11):\n",
    "    approximation = gauss(np.sin, n, 0, np.pi/2)\n",
    "    print('The approximate value of n =', n, 'is', approximation)"
   ]
  },
  {
   "cell_type": "markdown",
   "metadata": {},
   "source": [
    "## 4. Other Quadrature Formulae"
   ]
  },
  {
   "cell_type": "markdown",
   "metadata": {},
   "source": [
    "### Example\n",
    " Let $I(f)$ be a define integral defined by\n",
    " $$I(f) = \\int_0^1 f(x) dx,$$\n",
    " and consider the quadrature formula\n",
    " $$\\hat{I}(f) = \\alpha_1 f(0) + \\alpha_2 f(1) + \\alpha_3 f'(0) \\quad \\quad \\quad (*)$$\n",
    " for approximation of $I(f)$."
   ]
  },
  {
   "cell_type": "markdown",
   "metadata": {},
   "source": [
    "### Part 1. \n",
    "\n",
    "#### We want to determine the coefficients $\\alpha_j$ for $j = 1,\\,2,\\,3$ in such a way that $\\hat{I}$ has the degree of exactness $r = 2$. Here the degree of exactness $r$ is to find $r$ such that\n",
    "#### $$I(x^k)=\\hat{I}(x^j) \\quad \\text{for} \\quad k = 0,\\,1,\\dots,\\,r \\quad \\text{and} \\quad \\hat{I}(x^j) \\neq I(x^j) \\quad \\text{for} \\quad j > r, $$\n",
    "#### where $x^j$ denote the $j$-th power of $x$.  \n",
    " \n",
    " ---\n",
    " \n",
    " Since $\\hat{I}$ has the degree of exactness $r = 2$\n",
    "$$I(f) = \\int_0^1 f(x) dx = \\hat{I}(f) = \\alpha_1 f(0) + \\alpha_2 f(1) + \\alpha_3 f'(0) $$\n",
    "for $f(x)=1$, $f(x)=x$ and $f(x)=x^2, $  \n",
    "and the corresponding differential of $f(x)$ is $f'(x) = 0, 1, 2x$ respectively.\n",
    "\n",
    "For $f(x)=1$,  $$\\int_0^1 1 dx = 1 = \\alpha_1 \\cdot 1 + \\alpha_2 \\cdot 1 + \\alpha_3 \\cdot 0 $$\n",
    "For $f(x)=x$,  $$\\int_0^1 x dx = {1\\over2} = \\alpha_1 \\cdot 0 + \\alpha_2 \\cdot 1 + \\alpha_3 \\cdot 1$$  \n",
    "For $f(x)=x^2$,  $$\\int_0^1 x^2 dx = {1\\over3} = \\alpha_1 \\cdot 0 + \\alpha_2 \\cdot 1 + \\alpha_3 \\cdot 0$$\n",
    "\n",
    "Solving the set of equations, and we can get $$\\alpha_1={2\\over3},\\alpha_2={1\\over3}, \\alpha_3={1\\over6}$$"
   ]
  },
  {
   "cell_type": "markdown",
   "metadata": {},
   "source": [
    "### Part 2. \n",
    "\n",
    "#### We want to find an apppropriate expression for the error $E(f) = I(f) - \\hat{I}(f)$.\n",
    "\n",
    "---\n",
    "Since $$I(f) = \\int_0^1 f(x) dx, \\,\\,\\,\\,\\, \\hat{I}(f) = {2\\over3} f(0) + {1\\over3} f(1) + {1\\over6} f'(0) $$\n",
    "and $$\\exists\\,\\, n=2\\,\\,  s.t. \\,\\, \\hat{I}(P_{i})=I(P_{i}) \\,\\,\\,\\, \\forall \\,i\\leq 2$$ \n",
    "By Peano Kernel Theorem, $$E(f)=\\int_0^1 {1\\over2!}f^{(3)}(t)\\,K(t)\\, dt,\\,\\,\\,\\,where\\,\\,\\, K(t)=E((x-t)^2_{+})$$\n",
    "Since $$(x-t)^n_{+}=\\begin{cases} \n",
    "(x-t)^n\\,\\,if \\,\\,t\\leq x \\\\ \n",
    "0\\;\\;\\;\\;\\;\\;\\;\\;\\;\\;if\\,\\, t> x\\\\ \n",
    "\\end{cases}\n",
    "\\implies {d\\over dx} (x-t)^n_{+}=\\begin{cases} \n",
    "n(x-t)^{n-1}\\,\\,if \\,\\,t\\leq x \\\\ \n",
    "0\\;\\;\\;\\;\\;\\;\\;\\;\\;\\;\\;\\;\\;\\;if\\,\\, t> x\\\\ \n",
    "\\end{cases}$$\n",
    "If we let $$f(x)=(x-t)^n_{+}$$\n",
    "then $$f(0)=0,\\;f(1)=(1-t)^2,\\;f'(0)=0\\;\\;\\;\\;since\\;\\;\\; t\\in [0,1]$$\n",
    "So we can get $$\\begin{aligned}\n",
    "K(t) &=E((x-t)^2_{+}) \\; = I((x-t)^2_{+}) - \\hat{I}((x-t)^2_{+})\\\\\n",
    "&= \\int_0^1 (x-t)^2_{+}\\, dx\\,-({2\\over 3}\\times 0 + {1\\over 3}(1-t)^2 +{1\\over6}\\times 0)\\\\\n",
    "&= \\int_t^1 (x-t)^2\\, dx\\,-{1\\over 3}(1-t)^2\\\\\n",
    "&= {1\\over 3}(x-t)^3\\bigm|_{x=t}^1\\,-{1\\over 3}(1-t)^2\\\\\n",
    "&= -{1\\over 3}t(1-t)^2\\\\\n",
    "\\end{aligned}$$  \n",
    "\n",
    "Since $K(t)<0\\;\\;\\;\\forall t\\in [0,1]$  (K(t) does not change sign), by MVT  \n",
    "\n",
    "$$E(f)=\\int_0^1 {1\\over2} f^{(3)}(t)\\,K(t)\\,dt\\;={1\\over2} f^{(3)}(\\xi)\\int_0^1\\,K(t)\\,dt\\;\\;\\;for\\;some\\;\\;\\xi \\in [0,1]$$\n",
    "Plus, $$\\int_0^1\\,K(t)\\,dt = \\int_0^1\\, -{1\\over 3}t(1-t)^2 \\,dt = -{1\\over 3}\\int_0^1\\, t-2t^2+t^3\\;dt=-{1\\over 3}({1\\over 2}t^2-{2\\over 3}t^3+{1\\over 4}t^4)\\bigm|_0^1 = -{1\\over 36}$$\n",
    "Therefore, $$E(f)={1\\over 2}f^{(3)}(\\xi)(-{1\\over 36})=-{1\\over 72}f^{(3)}(\\xi)\\;\\;\\;for\\;some\\;\\;\\xi\\in[0,1]$$"
   ]
  },
  {
   "cell_type": "markdown",
   "metadata": {},
   "source": [
    "---\n",
    "### Part 3. \n",
    "#### Compute\n",
    " $$\\int_0^1 e^{-\\frac{x^2}{2}} dx$$\n",
    "#### using quadrature formulas $(*)$."
   ]
  },
  {
   "cell_type": "code",
   "execution_count": 10,
   "metadata": {},
   "outputs": [],
   "source": [
    "def f(x):\n",
    "    return np.exp(-x**2/2)\n",
    "    \n",
    "def d_f(x):\n",
    "    return (-x)*np.exp(-x**2/2)"
   ]
  },
  {
   "cell_type": "code",
   "execution_count": 11,
   "metadata": {},
   "outputs": [
    {
     "name": "stdout",
     "output_type": "stream",
     "text": [
      "The result of the integral is 0.8688435532375445\n"
     ]
    }
   ],
   "source": [
    "alpha_1 = 2/3\n",
    "alpha_2 = 1/3\n",
    "alpha_3 = 1/6\n",
    "approximation = alpha_1*f(0) + alpha_2 * f(1) + alpha_3*d_f(0)\n",
    "print(\"The result of the integral is\", approximation)"
   ]
  },
  {
   "cell_type": "markdown",
   "metadata": {},
   "source": [
    "### Part 4. \n",
    "#### Error Estimate for quadrature formula\n",
    "\n",
    "---\n",
    "\n",
    "By Part 2, we know that\n",
    "$$E(f)= I(f) - \\hat{I}(f) =-{1\\over 72}f^{(3)}(\\xi)\\;\\;\\;for\\;some\\;\\;\\xi\\in[0,1]$$\n",
    "$$\\implies |E(f)| = \\left| \\int_a^b f(x)\\,dx - \\hat{I}(f) \\right| \\leq \\frac{1}{72}\\,K_3$$\n",
    "where $|f^{(3)} (x)|\\,\\leq\\,K_3$ for all $x \\in [0,1],$  \n",
    "\n",
    "and $$f(x)=e^{-{x^2\\over 2}}\\;\\;\\implies f^{(3)}(x)=(3x-x^3)e^{-{x^2\\over 2}}\\implies |f^{(3)} (x)|\\,\\leq\\,1.5 \\;\\;\\;\\forall x \\in [0,1]$$\n",
    "So $$|I(f)-\\hat{I}(f)|\\leq \\frac{1}{72}\\cdot 1.5 \\approx 0.0208  $$  \n",
    "\n",
    "$$\\implies \\hat{I}(f)-0.0208 \\leq I(f) \\leq \\hat{I}(f)+0.0208$$  \n",
    "\n",
    "Plug in $\\hat{I}(f)=0.8688435532375445$ from quadrature formula, we get  \n",
    "\n",
    "$$0.8480435532375444 \\leq I(f) \\leq 0.8896435532375445$$"
   ]
  },
  {
   "cell_type": "code",
   "execution_count": null,
   "metadata": {},
   "outputs": [],
   "source": []
  }
 ],
 "metadata": {
  "kernelspec": {
   "display_name": "Python 3",
   "language": "python",
   "name": "python3"
  },
  "language_info": {
   "codemirror_mode": {
    "name": "ipython",
    "version": 3
   },
   "file_extension": ".py",
   "mimetype": "text/x-python",
   "name": "python",
   "nbconvert_exporter": "python",
   "pygments_lexer": "ipython3",
   "version": "3.7.3"
  }
 },
 "nbformat": 4,
 "nbformat_minor": 2
}
