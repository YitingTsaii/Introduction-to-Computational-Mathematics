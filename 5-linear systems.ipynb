{
 "cells": [
  {
   "cell_type": "markdown",
   "metadata": {},
   "source": [
    "# Linear Systems"
   ]
  },
  {
   "cell_type": "markdown",
   "metadata": {},
   "source": [
    "## 1. LU Decomposition "
   ]
  },
  {
   "cell_type": "code",
   "execution_count": 1,
   "metadata": {},
   "outputs": [],
   "source": [
    "import numpy as np\n",
    "from numpy import linalg as LA\n",
    "import matplotlib.pyplot as plt"
   ]
  },
  {
   "cell_type": "markdown",
   "metadata": {},
   "source": [
    "### Forward Substitution\n",
    "\n",
    "If the matrix $A$ is lower triangular matrix $L$, that is \n",
    "\n",
    "$$Lx = b = \n",
    "\\begin{pmatrix}\n",
    "l_{11}&  & O \\\\\n",
    "\\vdots & \\ddots & \\\\\n",
    "l_{n1} & \\dots & l_{nn} \n",
    "\\end{pmatrix}\n",
    "\\begin{pmatrix}\n",
    "x_1 \\\\\n",
    "\\vdots \\\\\n",
    "x_n\n",
    "\\end{pmatrix}\n",
    "=\n",
    "\\begin{pmatrix}\n",
    "b_1 \\\\\n",
    "\\vdots \\\\\n",
    "b_n\n",
    "\\end{pmatrix}\n",
    "$$\n",
    "\n",
    "It's easy to find that \n",
    "\n",
    "$$\n",
    "\\begin{aligned}\n",
    "x_1 &= b_1 / l_{11} \\\\\n",
    "x_2 &= (b_2 - l_{21}x_1) / l_{22} \\\\\n",
    "&\\vdots \\\\\n",
    "x_i &= (b_i - \\sum_{j=1}^{i-1} l_{ij}x_j)/l_{ii}\n",
    "\\end{aligned}\n",
    "$$"
   ]
  },
  {
   "cell_type": "code",
   "execution_count": 2,
   "metadata": {},
   "outputs": [],
   "source": [
    "def forward_substitution(L, b):\n",
    "    '''\n",
    "    Arguments:\n",
    "        L : 2D lower triangular np.array\n",
    "        b : 1D np.array\n",
    "\n",
    "    Return:\n",
    "        x : solution to Lx = b\n",
    "    '''\n",
    "\n",
    "    m, n = L.shape\n",
    "    x = np.zeros(n) \n",
    "    for i in range(n): \n",
    "        r = sum([L[i ,j]* x[j] for j in range(i)]) \n",
    "        x[i] = (b[i] - r) / L[i, i]\n",
    "    return x"
   ]
  },
  {
   "cell_type": "markdown",
   "metadata": {},
   "source": [
    "### Backward Substitution\n",
    "\n",
    "If the matrix $A$ is upper triangular matrix $U$, that is \n",
    "\n",
    "$$Ux = b = \n",
    "\\begin{pmatrix}\n",
    "u_{11} & \\dots & u_{1n} \\\\\n",
    " & \\ddots & \\vdots \\\\\n",
    "O &  & u_{nn} \n",
    "\\end{pmatrix}\n",
    "\\begin{pmatrix}\n",
    "x_1 \\\\\n",
    "\\vdots \\\\\n",
    "x_n\n",
    "\\end{pmatrix}\n",
    "=\n",
    "\\begin{pmatrix}\n",
    "b_1 \\\\\n",
    "\\vdots \\\\\n",
    "b_n\n",
    "\\end{pmatrix}\n",
    "$$\n",
    "\n",
    "It's easy to find that \n",
    "\n",
    "$$\n",
    "\\begin{aligned}\n",
    "x_n &= b_n / u_{nn} \\\\\n",
    "x_{n-1} &= (b_{n-1} - u_{n-1,n}x_n) / u_{n-1,n-1} \\\\\n",
    "&\\vdots \\\\\n",
    "x_i &= (b_i - \\sum_{j=i+1}^{n} u_{ij}x_j)/u_{ii}\n",
    "\\end{aligned}\n",
    "$$"
   ]
  },
  {
   "cell_type": "code",
   "execution_count": 3,
   "metadata": {},
   "outputs": [],
   "source": [
    "def backward_substitution(R, b):\n",
    "    '''\n",
    "    Arguments:\n",
    "        R : 2D upper triangular np.array\n",
    "        b : 1D np.array\n",
    "\n",
    "    Return:\n",
    "        x : solution to Rx = b\n",
    "    '''\n",
    "    m, n = R.shape\n",
    "    x = np.zeros(n)\n",
    "    for i in reversed(range(n)): \n",
    "        r = sum([R[i, j] * x[j] for j in range(i, n)])\n",
    "        x[i] = (b[i] - r) / R[i, i]\n",
    "    return x"
   ]
  },
  {
   "cell_type": "markdown",
   "metadata": {},
   "source": [
    "### Gaussian Elimination"
   ]
  },
  {
   "cell_type": "code",
   "execution_count": 4,
   "metadata": {},
   "outputs": [],
   "source": [
    "def gaussian_elimination(\n",
    "    A,\n",
    "    b\n",
    "):\n",
    "    '''\n",
    "    Input:\n",
    "    A : m x m matrix\n",
    "    b : m x 1 vector\n",
    "    \n",
    "    Return:\n",
    "    L : m x m lower-triangular matrix\n",
    "    U : m x m upper-triangular matrix\n",
    "    x : m x 1 solution\n",
    "    '''\n",
    "\n",
    "    U = np.copy(A)\n",
    "    m = len(A)  \n",
    "    L = np.diag(np.ones(m)) \n",
    "    x = np.zeros([m,1])  \n",
    "    new_b = np.copy(b) \n",
    "    \n",
    "    #Gaussian elimination\n",
    "    for k in range(m-1): \n",
    "        new_L = np.diag(np.ones(m))\n",
    "        for j in range(k+1, m):\n",
    "            new_L[j, k] = -U[j,k] / U[k,k]\n",
    "            U[j,k:] = U[j, k:] + new_L[j, k]*U[k, k:]\n",
    "            new_b[j, 0] = new_b[j, 0] + new_L[j, k]*new_b[k, 0]\n",
    "        L = new_L@L \n",
    "        \n",
    "    #Solve x \n",
    "    for i in range(m):\n",
    "        if i==0:  \n",
    "            x[-1, 0] = new_b[-1, 0] / U[-1, -1]  \n",
    "        else:\n",
    "            x[-1-i, 0] = (new_b[-1-i, 0] - U[-1-i, -i:]@x[-i:,0])/U[-1-i, -1-i] \n",
    "                          \n",
    "    return LA.inv(L), U, x  "
   ]
  },
  {
   "cell_type": "markdown",
   "metadata": {},
   "source": [
    "### Example"
   ]
  },
  {
   "cell_type": "markdown",
   "metadata": {},
   "source": [
    " Consider the following linear system.\n",
    " $$\\begin{matrix}\n",
    "    &2x + y - z = 8\\\\\n",
    "    &-3x - y + 2z = -11\\\\\n",
    "    &-2x + y + 2z = -3\n",
    "    \\end{matrix}$$"
   ]
  },
  {
   "cell_type": "code",
   "execution_count": 5,
   "metadata": {},
   "outputs": [
    {
     "name": "stdout",
     "output_type": "stream",
     "text": [
      "L = [[ 1.  -0.  -0. ]\n",
      " [-1.5  1.  -0. ]\n",
      " [-1.   4.   1. ]]\n",
      "U = [[ 2.   1.  -1. ]\n",
      " [ 0.   0.5  0.5]\n",
      " [ 0.   0.  -1. ]]\n",
      "x = [[ 2.]\n",
      " [ 3.]\n",
      " [-1.]]\n"
     ]
    }
   ],
   "source": [
    "A = np.array([\n",
    "    [2., 1., -1.],\n",
    "    [-3., -1., 2.],\n",
    "    [-2., 1., 2.]\n",
    "])\n",
    "\n",
    "b = np.array([\n",
    "    [8.],\n",
    "    [-11.],\n",
    "    [-3.]\n",
    "])\n",
    "\n",
    "L, U, x = gaussian_elimination(A, b)\n",
    "print(\"L =\", L)\n",
    "print(\"U =\", U)\n",
    "print(\"x =\", x)"
   ]
  },
  {
   "cell_type": "markdown",
   "metadata": {},
   "source": [
    "## 2. Cholesky Factorization "
   ]
  },
  {
   "cell_type": "code",
   "execution_count": 6,
   "metadata": {},
   "outputs": [],
   "source": [
    "def cholesky_decomposition(A):\n",
    "    '''\n",
    "    Arguments:\n",
    "        A : 2D np.array\n",
    "\n",
    "    Return:\n",
    "        R : 2D np.array, A = R^T R\n",
    "    '''\n",
    "\n",
    "    m = len(A) \n",
    "    R = np.zeros((m,m))\n",
    "    \n",
    "    R[0,0] = np.sqrt(A[0,0])  \n",
    "    for j in range(1,m):\n",
    "        R[0,j] = A[0,j]/R[0,0]\n",
    "        \n",
    "    for i in range(m):    \n",
    "        R[i,i] = np.sqrt(A[i,i] - sum((R[k,i])**2 for k in range(i))) \n",
    "        for j in range(i+1, m):\n",
    "            R[i,j] = (A[i,j] - sum(R[k,i]*R[k,j] for k in range(i)))/R[i,i]\n",
    "            \n",
    "    return R\n"
   ]
  },
  {
   "cell_type": "markdown",
   "metadata": {},
   "source": [
    "### Example 1"
   ]
  },
  {
   "cell_type": "code",
   "execution_count": 7,
   "metadata": {},
   "outputs": [
    {
     "name": "stdout",
     "output_type": "stream",
     "text": [
      "A:\n",
      " [[ 30  36  48  38]\n",
      " [ 36  63  93  36]\n",
      " [ 48  93 150  31]\n",
      " [ 38  36  31  69]]\n",
      "R:\n",
      " [[ 5.47722558  6.57267069  8.76356092  6.93781906]\n",
      " [ 0.          4.44971909  7.95555838 -2.15743956]\n",
      " [ 0.          0.          3.14787085 -4.01425733]\n",
      " [ 0.          0.          0.          0.31282475]]\n",
      "A = R.T @ R:\n",
      " [[ 30.  36.  48.  38.]\n",
      " [ 36.  63.  93.  36.]\n",
      " [ 48.  93. 150.  31.]\n",
      " [ 38.  36.  31.  69.]]\n"
     ]
    }
   ],
   "source": [
    "# Construct a PSD matrix A\n",
    "_A = np.array([\n",
    "    [1, 3, 2, 4],\n",
    "    [4, 2, 1, 7],\n",
    "    [2, 5, 9, 0],\n",
    "    [3, 5, 8, 2]\n",
    "])\n",
    "A = _A.T @ _A\n",
    "\n",
    "# Do Cholesky decomposition\n",
    "R = cholesky_decomposition(A)\n",
    "print('A:\\n', A)\n",
    "print('R:\\n', R)\n",
    "print('A = R.T @ R:\\n', R.T @ R)"
   ]
  },
  {
   "cell_type": "markdown",
   "metadata": {},
   "source": [
    "### Example 2"
   ]
  },
  {
   "cell_type": "markdown",
   "metadata": {},
   "source": [
    " Suppose that a planet follows an elliptical orbit, which can be represented in a Cartesian coordinate system by the equation of the form\n",
    "\n",
    " $$\\alpha_{1} y^{2} + \\alpha_{2} x y + \\alpha_{3} x + \\alpha_{4} y + \\alpha_{5} = x^{2}.\\ \\ \\ \\ \\ \\ \\ \\ \\ (1)$$\n",
    "\n",
    " Based on the observation of the planet's position:\n",
    "\n",
    " $$    \\left [\n",
    "      \\begin{array}{c}\n",
    "       x \\\\\n",
    "       y\n",
    "      \\end{array}\n",
    "    \\right ] =\n",
    "    \\left [\n",
    "      \\begin{array}{cccccccccc}\n",
    "   1.02 & 0.95 & 0.87 & 0.77 & 0.67 & 0.56 & 0.44 & 0.30 & 0.16 & 0.01\\\\\n",
    "   0.39 & 0.32 & 0.27 & 0.22 & 0.18 & 0.15 & 0.13 & 0.12 & 0.13 & 0.15\n",
    "      \\end{array}\n",
    "    \\right ],$$\n",
    "   \n",
    "   we want to determine the orbital parameters $\\alpha_{i}$, $i=1,2,\\cdots, 5$, that solve the linear least squares problem of the form: $\\min_{\\alpha_{i}} \\| b - A\\alpha \\|_{2}$, where the vector $b \\in \\mathbb{R}^{10}$, $\\alpha = [\\alpha_1, \\alpha_2, \\alpha_3, \\alpha_4, \\alpha_5]^{T}\\in \\mathbb{R}^{5}$ and the matrix $A \\in \\mathbb{R}^{10\\times 5}$ can be obtained easily when we substitute the aboe data to the  equation (1). \n",
    "   \n",
    "   Find the solution of the problem by solving the associated normal equations via Cholesky factorization."
   ]
  },
  {
   "cell_type": "code",
   "execution_count": 8,
   "metadata": {},
   "outputs": [],
   "source": [
    "data_x = np.array([1.02, 0.95, 0.87, 0.77, 0.67, 0.56, 0.44, 0.30, 0.16, 0.01])\n",
    "data_y = np.array([0.39, 0.32, 0.27, 0.22, 0.18, 0.15, 0.13, 0.12, 0.13, 0.15])"
   ]
  },
  {
   "cell_type": "code",
   "execution_count": 9,
   "metadata": {},
   "outputs": [],
   "source": [
    "def construct_A_and_b(x, y):\n",
    "    '''\n",
    "    Arguments:\n",
    "        x : 1D np.array, data x\n",
    "        y : 1D np.array, data y\n",
    "\n",
    "    Returns:\n",
    "        A : 2D np.array\n",
    "        b : 1D np.array\n",
    "    '''\n",
    "    m = len(x)\n",
    "    A = np.zeros((m,5))\n",
    "    A[:,0] = y**2\n",
    "    A[:,1] = x*y\n",
    "    A[:,2] = x\n",
    "    A[:,3] = y\n",
    "    A[:,4] = 1\n",
    "    \n",
    "    b = np.zeros(m)\n",
    "    b = x**2\n",
    "    \n",
    "    return A, b"
   ]
  },
  {
   "cell_type": "code",
   "execution_count": 10,
   "metadata": {},
   "outputs": [],
   "source": [
    "def solve_alpha(x, y):\n",
    "    '''\n",
    "    Arguments:\n",
    "        x : 1D np.array, data x\n",
    "        y : 1D np.array, data y\n",
    "\n",
    "    Returns:\n",
    "        alpha : 1D np.array\n",
    "\n",
    "    Hints:\n",
    "        1. Find matrix A, vector b\n",
    "        2. Find the associated normal equation\n",
    "        3. Do Cholesky decomposition\n",
    "        4. Solve the equation with forward/backward substition\n",
    "    '''\n",
    "\n",
    "    A, b = construct_A_and_b(x, y)\n",
    "    R = cholesky_decomposition(A.T @ A)\n",
    "    new_b = A.T @ b\n",
    "    #Solve R.T@w=new_b where R.T is lower triangular\n",
    "    w = forward_substitution(R.T, new_b)\n",
    "    #Solve R@alpha=w where R is upper triangular\n",
    "    alpha = backward_substitution(R, w)\n",
    "    \n",
    "    return alpha"
   ]
  },
  {
   "cell_type": "code",
   "execution_count": 11,
   "metadata": {},
   "outputs": [],
   "source": [
    "alpha = solve_alpha(data_x, data_y)"
   ]
  },
  {
   "cell_type": "code",
   "execution_count": 12,
   "metadata": {},
   "outputs": [],
   "source": [
    "def ellipse(x, y, alpha):\n",
    "    '''\n",
    "    Arguments:\n",
    "        x : 1D np.array, data x\n",
    "        y : 1D np.array, data y\n",
    "        alpha : 1D np.array, the coefficients\n",
    "\n",
    "    Returns:\n",
    "        z : 1D np.array, z=f(x, y, alpha) from equation (1)\n",
    "    '''\n",
    "    m = len(y)\n",
    "    z = alpha[0]*y**2 + alpha[1]*x*y + alpha[2]*x + alpha[3]*y + alpha[4]*np.ones(m) - x**2\n",
    "    return z"
   ]
  },
  {
   "cell_type": "code",
   "execution_count": 13,
   "metadata": {},
   "outputs": [
    {
     "data": {
      "image/png": "[encoded data removed]",
      "text/plain": [
       "<Figure size 432x288 with 1 Axes>"
      ]
     },
     "metadata": {
      "needs_background": "light"
     },
     "output_type": "display_data"
    }
   ],
   "source": [
    "# Plot the exact data points (x,y)\n",
    "plt.scatter(data_x, data_y, label='data')\n",
    "\n",
    "# Prepare mesh data points (X,Y) to plot the orbit\n",
    "X, Y = np.meshgrid(\n",
    "    np.linspace(-1, 1.5, 100),\n",
    "    np.linspace(0, 1.5, 100)\n",
    ")\n",
    "# Plot the level curve at z = 0 only\n",
    "plt.contour(X, Y, ellipse(X, Y, alpha), [0])\n",
    "\n",
    "plt.xlabel('x')\n",
    "plt.ylabel('y')\n",
    "plt.legend()\n",
    "plt.show()"
   ]
  },
  {
   "cell_type": "markdown",
   "metadata": {},
   "source": [
    "## 3. Iterative Methods (Jacobian method and Gauss-Seidel method)"
   ]
  },
  {
   "cell_type": "markdown",
   "metadata": {},
   "source": [
    "### Iterative Methods for Linear Systems $Ax=b$\n",
    "We split A s.t. $A=M-N$, and let $Mx_{n+1}=Nx_n+b$  \n",
    "Suppose $\\bar{x}$ is the exact solution to $Ax=b$, then\n",
    "$$e_{n+1} = x_{n+1}-\\bar{x}=M^{-1}Nx_n+M^{-1}b-\\bar{x}=M^{-1}Nx_n+M^{-1}(M-N)\\bar{x}-\\bar{x}=M^{-1}N(x_n-\\bar{x})=M^{-1}Ne_n$$\n",
    "Let $G=M^{-1}N$, then $$e_{n+1}=Ge_n$$\n",
    "The condition for $lim_{n \\to \\infty} \\|e_n\\|=0$ is the spectal radius of $G$ is smaller than 1, that is\n",
    "$${\\cal S}(G)=max |\\lambda_i |<1,$$ where $\\lambda_i$ are eigenvalues of $G$    \n",
    "\n",
    "In Jacobian method, $M=D$ and $N=-L-U$  \n",
    "In Gauss-Seidel method, $M=D+L$ and $N=-U$\n",
    "\n"
   ]
  },
  {
   "cell_type": "markdown",
   "metadata": {},
   "source": [
    "### Example 1\n",
    "Let $$A=\\left[\\begin{matrix}\n",
    "    1 &&0 &&1\\\\\n",
    "    0 && 3 &&0\\\\\n",
    "    2 &&5 && 6\n",
    "    \\end{matrix}\\right],\\,\n",
    "    b=\\left[\\begin{matrix}\n",
    "    4\\\\\n",
    "    6\\\\\n",
    "    30\n",
    "    \\end{matrix}\\right], \\text{and the actual solution } \\bar{x} \\text{ is} \\left[\\begin{matrix}1\\\\2\\\\3\\end{matrix}\\right] $$"
   ]
  },
  {
   "cell_type": "code",
   "execution_count": 14,
   "metadata": {},
   "outputs": [
    {
     "name": "stdout",
     "output_type": "stream",
     "text": [
      "[2.23606797749979, 2.1666666666666665, 1.0671873729054748, 0.722222222222222, 0.35572912430182463, 0.2407407407407404, 0.11857637476727488, 0.08024691358024687, 0.03952545825575822, 0.02674897119341546, 0.013175152751919546, 0.008916323731138522, 0.004391717583973529, 0.002972107910379564, 0.001463905861324533, 0.000990702636793222, 0.0004879686204416728, 0.00033023421226419103, 0.00016265620681391404, 0.00011007807075465063, 5.4218735604661136e-05, 3.669269025152744e-05, 1.8072911868359087e-05, 1.2230896750372503e-05, 6.0243039561196955e-06, 4.076965583457501e-06, 2.0081013185216184e-06, 1.3589885276597502e-06, 6.693671064050565e-07, 4.529961758865834e-07, 2.2312236870921202e-07]\n"
     ]
    }
   ],
   "source": [
    "#Jacobian Method\n",
    "M_J = np.array([\n",
    "    [1, 0, 0],\n",
    "    [0, 3, 0],\n",
    "    [0, 0, 6]])\n",
    "N_J = np.array([\n",
    "    [0, 0, -1],\n",
    "    [0, 0, 0],\n",
    "    [-2, -5, 0]])\n",
    "b = np.array([\n",
    "    [4],\n",
    "    [6],\n",
    "    [30]])\n",
    "real_x = np.array([\n",
    "    [1],\n",
    "    [2],\n",
    "    [3]])\n",
    "initial = np.array([\n",
    "    [1],\n",
    "    [1],\n",
    "    [1]])\n",
    "x_J = []\n",
    "r_J = []\n",
    "x_J.append(initial)\n",
    "r_J.append(LA.norm(x_J[0]-real_x,2))\n",
    "M_J_inv = LA.inv(M_J)\n",
    "\n",
    "m=30\n",
    "for i in range(m):\n",
    "    new_x = M_J_inv@N_J@x_J[i]+M_J_inv@b\n",
    "    x_J.append(new_x)\n",
    "    r_J.append(LA.norm(x_J[i+1]-real_x,2))\n",
    "    \n",
    "print(r_J)"
   ]
  },
  {
   "cell_type": "code",
   "execution_count": 15,
   "metadata": {
    "scrolled": true
   },
   "outputs": [
    {
     "name": "stdout",
     "output_type": "stream",
     "text": [
      "[2.23606797749979, 2.108185106778921, 0.7027283689263081, 0.23424278964210407, 0.07808092988070275, 0.02602697662690209, 0.008675658875635248, 0.002891886291879492, 0.0009639620972945685, 0.0003213206990993598, 0.0001071068997010973, 3.5702299901676475e-05, 1.1900766635109248e-05, 3.966922212732926e-06, 1.322307405461398e-06, 4.407691362304549e-07, 1.4692304686129614e-07, 4.897435026447654e-08, 1.632478468539224e-08, 5.441596112219686e-09, 1.8138667750733675e-09, 6.046233818247311e-10, 2.0154234436395486e-10, 6.718218579032223e-11, 2.239518540307946e-11, 7.46627889289678e-12, 2.4901640259502317e-12, 8.312250387865628e-13, 2.783394442230525e-13, 9.39508482332342e-14, 3.258537675748866e-14]\n"
     ]
    }
   ],
   "source": [
    "#Gauss-Seidel Method\n",
    "M_G = np.array([\n",
    "    [1, 0, 0],\n",
    "    [0, 3, 0],\n",
    "    [2, 5, 6]])\n",
    "N_G = np.array([\n",
    "    [0, 0, -1],\n",
    "    [0, 0, 0],\n",
    "    [0, 0, 0]])\n",
    "\n",
    "x_G = []\n",
    "r_G = []\n",
    "x_G.append(initial)\n",
    "r_G.append(LA.norm(x_G[0]-real_x,2))\n",
    "M_G_inv = LA.inv(M_G)\n",
    "\n",
    "for i in range(m):\n",
    "    new_x = M_G_inv@N_G@x_G[i]+M_G_inv@b\n",
    "    x_G.append(new_x)\n",
    "    r_G.append(LA.norm(x_G[i+1]-real_x,2))\n",
    "    \n",
    "print(r_G)"
   ]
  },
  {
   "cell_type": "code",
   "execution_count": 16,
   "metadata": {},
   "outputs": [
    {
     "data": {
      "image/png": "[encoded data removed]",
      "text/plain": [
       "<Figure size 1152x360 with 1 Axes>"
      ]
     },
     "metadata": {
      "needs_background": "light"
     },
     "output_type": "display_data"
    }
   ],
   "source": [
    "x_range = np.arange(1, m+2, 1)\n",
    "fig, ax = plt.subplots(figsize=(16, 5))\n",
    "\n",
    "# Plot the Lagrange interploating polynomial\n",
    "ax.plot(x_range, r_J, label='Jacobian')\n",
    "ax.plot(x_range, r_G, label='Gauss-Seidel')\n",
    "\n",
    "# Add other text and items\n",
    "ax.set_title('Error of Jacobian and Gauss-Seidel Methods')\n",
    "plt.legend()\n",
    "ax.grid(True)\n",
    "plt.ylabel('log(error)')\n",
    "ax.set_yscale('log')\n",
    "#ax.axhline(y=0)\n",
    "#ax.axvline(x=0)\n",
    "plt.show()"
   ]
  },
  {
   "cell_type": "markdown",
   "metadata": {},
   "source": [
    "### Example 2"
   ]
  },
  {
   "cell_type": "markdown",
   "metadata": {},
   "source": [
    " Analyse the convergence properties of the Jacobi and Gauss-Seidel methods for the solution of a linear system whose matrix is  \n",
    " \n",
    " $$\\left[\\begin{matrix}\n",
    "    \\alpha &&0 &&1\\\\\n",
    "    0 &&\\alpha &&0\\\\\n",
    "    1 &&0 &&\\alpha\n",
    "    \\end{matrix}\\right],\n",
    "    \\quad \\quad\n",
    "    \\alpha \\in \\mathbb{R}.$$"
   ]
  },
  {
   "cell_type": "markdown",
   "metadata": {},
   "source": [
    "### Jacobian Method\n",
    "$$M=D=\n",
    "    \\left[\\begin{matrix}\n",
    "    \\alpha &&0 &&0\\\\\n",
    "    0 && \\alpha &&0\\\\\n",
    "    0 &&0 &&\\alpha\n",
    "    \\end{matrix}\\right], \n",
    "    N=-L-U=\n",
    "    \\left[\\begin{matrix}\n",
    "    0 &&0 &&-1\\\\\n",
    "    0 && 0 &&0\\\\\n",
    "    -1 &&0 &&0\n",
    "    \\end{matrix}\\right]$$  \n",
    "      \n",
    "      \n",
    "$$\\implies G=-D^{-1}(L+U)=\n",
    "    \\left[\\begin{matrix}\n",
    "    0 &&0 &&{-1\\over \\alpha}\\\\\n",
    "    0 && 0 &&0\\\\\n",
    "    {-1\\over \\alpha} &&0 &&0\n",
    "    \\end{matrix}\\right],\n",
    "    \\quad \\quad\n",
    "    \\alpha \\in \\mathbb{R}, \\alpha \\neq 0.\\\\\n",
    "    \\implies det(G-\\lambda I)=-\\lambda^3-(-\\lambda)({-1\\over \\alpha})({-1\\over \\alpha})=-\\lambda(\\lambda+{1\\over \\alpha})(\\lambda-{1\\over \\alpha})$$\n",
    "Solving $det(G-\\lambda I)=0$, and we get the eigenvalues $\\lambda=0, {1\\over \\alpha}, -{1\\over \\alpha}$  \n",
    "The iterative method converges when\n",
    "$${\\cal S}(G)=max |\\lambda_i |=|{1\\over \\alpha}|<1 \\implies |\\alpha|>1 $$\n",
    "\n",
    "### Gauss-Seidel Method\n",
    "$$M=D+L=\n",
    "\\left[\\begin{matrix}\n",
    "    \\alpha &&0 &&0\\\\\n",
    "    0 && \\alpha &&0\\\\\n",
    "    1 &&0 &&\\alpha\n",
    "    \\end{matrix}\\right]\n",
    "    , N=-U=\n",
    "    \\left[\\begin{matrix}\n",
    "    0 &&0 &&-1\\\\\n",
    "    0 && 0 &&0\\\\\n",
    "    0 &&0 && 0\n",
    "    \\end{matrix}\\right]$$  \n",
    "      \n",
    "      \n",
    "$$\\implies G=-(D+L)^{-1}U=\n",
    "    \\left[\\begin{matrix}\n",
    "    0 &&0 &&{-1\\over \\alpha}\\\\\n",
    "    0 && 0 &&0\\\\\n",
    "    0 &&0 &&{1\\over \\alpha^2}\n",
    "    \\end{matrix}\\right],\n",
    "    \\quad \\quad\n",
    "    \\alpha \\in \\mathbb{R}, \\alpha \\neq 0.\\\\\n",
    "    \\implies det(G-\\lambda I)=\\lambda^2({1\\over \\alpha^2}-\\lambda)$$\n",
    "Solving $det(G-\\lambda I)=0$, and we get the eigenvalues $\\lambda=0, 0, {1\\over \\alpha^2}$  \n",
    "The iterative method converges when\n",
    "$${\\cal S}(G)=max |\\lambda_i |=|{1\\over \\alpha^2}|={1\\over \\alpha^2}<1 \\implies |\\alpha|>1 $$"
   ]
  },
  {
   "cell_type": "markdown",
   "metadata": {},
   "source": []
  }
 ],
 "metadata": {
  "kernelspec": {
   "display_name": "Python 3",
   "language": "python",
   "name": "python3"
  },
  "language_info": {
   "codemirror_mode": {
    "name": "ipython",
    "version": 3
   },
   "file_extension": ".py",
   "mimetype": "text/x-python",
   "name": "python",
   "nbconvert_exporter": "python",
   "pygments_lexer": "ipython3",
   "version": "3.7.3"
  }
 },
 "nbformat": 4,
 "nbformat_minor": 2
}
